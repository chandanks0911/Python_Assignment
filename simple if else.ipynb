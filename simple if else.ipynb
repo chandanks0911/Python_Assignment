{
 "cells": [
  {
   "cell_type": "markdown",
   "metadata": {},
   "source": [
    "1. WAP to check whether a number is positive or negative. If Positive print positive message or else print Negative Number."
   ]
  },
  {
   "cell_type": "code",
   "execution_count": 1,
   "metadata": {},
   "outputs": [
    {
     "name": "stdout",
     "output_type": "stream",
     "text": [
      "positive\n"
     ]
    }
   ],
   "source": [
    "a = 20\n",
    "if a>=0:\n",
    "    print('positive')\n",
    "else:\n",
    "    print('negative')"
   ]
  },
  {
   "cell_type": "markdown",
   "metadata": {},
   "source": [
    "2. WAP to check whether a number is even or odd. If even, print message an even or else print message as odd."
   ]
  },
  {
   "cell_type": "code",
   "execution_count": null,
   "metadata": {},
   "outputs": [],
   "source": [
    "a = 90\n",
    "if a%2==0:\n",
    "    print('even')\n",
    "else:\n",
    "    print('odd')"
   ]
  },
  {
   "cell_type": "markdown",
   "metadata": {},
   "source": [
    "3. Write a program to check whether a given number is greater than 10 or not. if it is greater than 10 print message as greater or else print that number with not a greater than."
   ]
  },
  {
   "cell_type": "code",
   "execution_count": 2,
   "metadata": {},
   "outputs": [
    {
     "name": "stdout",
     "output_type": "stream",
     "text": [
      "greater than 10\n"
     ]
    }
   ],
   "source": [
    "a = 30\n",
    "if a>10:\n",
    "    print('greater than 10')\n",
    "else:\n",
    "    print('not greater than 10')"
   ]
  },
  {
   "cell_type": "markdown",
   "metadata": {},
   "source": [
    "4. WAP to check whether the given two input numbers are divisible by 3 and 5. If it is divisible, print “Good Morning”, if it is not divisible print “Good Evening”."
   ]
  },
  {
   "cell_type": "code",
   "execution_count": 3,
   "metadata": {},
   "outputs": [
    {
     "name": "stdout",
     "output_type": "stream",
     "text": [
      "Good Morning\n"
     ]
    }
   ],
   "source": [
    "a = 15\n",
    "if a%3==0 and a%5==0:\n",
    "    print('Good Morning')\n",
    "else:\n",
    "    print('Good Evening')"
   ]
  },
  {
   "cell_type": "markdown",
   "metadata": {},
   "source": [
    "5. WAP to accept two integers and check whether those two values are equal or not. If equal, multiply to value or else to display the quotation value."
   ]
  },
  {
   "cell_type": "code",
   "execution_count": 4,
   "metadata": {},
   "outputs": [
    {
     "name": "stdout",
     "output_type": "stream",
     "text": [
      "0.9230769230769231\n"
     ]
    }
   ],
   "source": [
    "a = 12\n",
    "b = 13\n",
    "if a==b:\n",
    "    res = a*b\n",
    "else:\n",
    "    res = a/b\n",
    "print(res)"
   ]
  },
  {
   "cell_type": "markdown",
   "metadata": {},
   "source": [
    "6. WAP to find the largest of two numbers."
   ]
  },
  {
   "cell_type": "code",
   "execution_count": 5,
   "metadata": {},
   "outputs": [
    {
     "name": "stdout",
     "output_type": "stream",
     "text": [
      "50 is largest number\n"
     ]
    }
   ],
   "source": [
    "a = 50\n",
    "b = 40\n",
    "if a>b:\n",
    "    print(f'{a} is largest number')\n",
    "else:\n",
    "    print(f'{b} is largest number')"
   ]
  },
  {
   "cell_type": "markdown",
   "metadata": {},
   "source": [
    "7. WAP to check whether the input number is greater than 10 or not if it is greater than 10 print messages as greater with number. if it is not a greater than 10 print that number."
   ]
  },
  {
   "cell_type": "code",
   "execution_count": 7,
   "metadata": {},
   "outputs": [
    {
     "name": "stdout",
     "output_type": "stream",
     "text": [
      "5\n"
     ]
    }
   ],
   "source": [
    "a = 5\n",
    "if a>10:\n",
    "    print('greater', a)\n",
    "else:\n",
    "    print(a)"
   ]
  },
  {
   "cell_type": "markdown",
   "metadata": {},
   "source": [
    "8. WAP to the given number integer, if n is greater than 21,print the absolute difference between n and 21 otherwise print twice the absolute difference."
   ]
  },
  {
   "cell_type": "code",
   "execution_count": 8,
   "metadata": {},
   "outputs": [
    {
     "name": "stdout",
     "output_type": "stream",
     "text": [
      "22\n"
     ]
    }
   ],
   "source": [
    "n = 10\n",
    "if n>21:\n",
    "    res = abs(n-21)\n",
    "else:\n",
    "    res = abs(n-21)*2\n",
    "print(res)"
   ]
  },
  {
   "cell_type": "markdown",
   "metadata": {},
   "source": [
    "9. WAP to find the smallest of two numbers."
   ]
  },
  {
   "cell_type": "code",
   "execution_count": 9,
   "metadata": {},
   "outputs": [
    {
     "name": "stdout",
     "output_type": "stream",
     "text": [
      "4 is smallest\n"
     ]
    }
   ],
   "source": [
    "a = 4\n",
    "b = 6\n",
    "if a<b:\n",
    "    print(f'{a} is smallest')\n",
    "else:\n",
    "    print(f'{b} is smallest')"
   ]
  },
  {
   "cell_type": "markdown",
   "metadata": {},
   "source": [
    "10. WAP to check whether the given number is even or odd. If it is even then make it as an add number, if it is an odd number then make it as even number."
   ]
  },
  {
   "cell_type": "code",
   "execution_count": 11,
   "metadata": {},
   "outputs": [
    {
     "name": "stdout",
     "output_type": "stream",
     "text": [
      "91 is converted into 92\n"
     ]
    }
   ],
   "source": [
    "a = 91\n",
    "if a%2==0:\n",
    "    res = a+1\n",
    "else:\n",
    "    res = a+1\n",
    "print(f'{a} is converted into {a+1}')"
   ]
  },
  {
   "cell_type": "markdown",
   "metadata": {},
   "source": [
    "11. WAP to check whether the given number is divisible by 3 or not if yes, print the\n",
    "number or else print the cube of the numbers."
   ]
  },
  {
   "cell_type": "code",
   "execution_count": 12,
   "metadata": {},
   "outputs": [
    {
     "name": "stdout",
     "output_type": "stream",
     "text": [
      "9\n"
     ]
    }
   ],
   "source": [
    "a = 9\n",
    "if a%3==0:\n",
    "    print(a)\n",
    "else:\n",
    "    print(a**3)"
   ]
  },
  {
   "cell_type": "markdown",
   "metadata": {},
   "source": [
    "12. WAP to check whether the given input is divisible by 3 and 5. If yes print the actual number or else print string of that number."
   ]
  },
  {
   "cell_type": "code",
   "execution_count": 15,
   "metadata": {},
   "outputs": [
    {
     "name": "stdout",
     "output_type": "stream",
     "text": [
      "16 <class 'str'>\n"
     ]
    }
   ],
   "source": [
    "a = 16\n",
    "if a%3==0 and a%5==0:\n",
    "    print(a)\n",
    "else:\n",
    "    print(str(a), type(str(a)))"
   ]
  },
  {
   "cell_type": "markdown",
   "metadata": {},
   "source": [
    "13. WAP to check whether the given number lies between 1 to 19, if it is true square that number or else false cube that number and display the number."
   ]
  },
  {
   "cell_type": "code",
   "execution_count": 16,
   "metadata": {},
   "outputs": [
    {
     "name": "stdout",
     "output_type": "stream",
     "text": [
      "64\n"
     ]
    }
   ],
   "source": [
    "a = 8\n",
    "if 1<a<19:\n",
    "    print(a**2)\n",
    "else:\n",
    "    print(a**3)"
   ]
  },
  {
   "cell_type": "markdown",
   "metadata": {},
   "source": [
    "14. WAP to check whether the student has passed or failed. If the student got more than 40 marks, print ‘PASS’ along with those marks, if it is not printed ‘FAIL’ along with those marks."
   ]
  },
  {
   "cell_type": "code",
   "execution_count": 17,
   "metadata": {},
   "outputs": [
    {
     "name": "stdout",
     "output_type": "stream",
     "text": [
      "PASS\n"
     ]
    }
   ],
   "source": [
    "mark = 50\n",
    "if mark>40:\n",
    "    print('PASS')\n",
    "else:\n",
    "    print('FAIL')"
   ]
  },
  {
   "cell_type": "markdown",
   "metadata": {},
   "source": [
    "15. WAP to check whether a given value is even and in range of 47 to 58 and not in 0 or odd. if condition is True, to perform display the ascii character. or else to perform floor division with 5 and display it."
   ]
  },
  {
   "cell_type": "code",
   "execution_count": 18,
   "metadata": {},
   "outputs": [
    {
     "name": "stdout",
     "output_type": "stream",
     "text": [
      "2\n"
     ]
    }
   ],
   "source": [
    "a = 50\n",
    "if a%2==0 and 47<=a<=58:\n",
    "    print(chr(a))\n",
    "else:\n",
    "    print(a//5)"
   ]
  },
  {
   "cell_type": "markdown",
   "metadata": {},
   "source": [
    "16. WAP to check whether a given value is less than 125 and in between 47 to 125 or not. if condition is True, to perform store the given value as key and value as a character into the dict or else to append the value in list and display it."
   ]
  },
  {
   "cell_type": "code",
   "execution_count": 20,
   "metadata": {},
   "outputs": [
    {
     "name": "stdout",
     "output_type": "stream",
     "text": [
      "[500]\n"
     ]
    }
   ],
   "source": [
    "a = 500\n",
    "d = {}\n",
    "l = []\n",
    "if 47<a<125:\n",
    "    d[a] = chr(a)\n",
    "    print(d)\n",
    "else:\n",
    "    l.append(a)\n",
    "    print(l)"
   ]
  },
  {
   "cell_type": "markdown",
   "metadata": {},
   "source": [
    "17. WAP to check whether a given character is in the alphabet or not. if alphabet, display 'alphabet' with character or else display 'not alphabet' with character."
   ]
  },
  {
   "cell_type": "code",
   "execution_count": 21,
   "metadata": {},
   "outputs": [
    {
     "name": "stdout",
     "output_type": "stream",
     "text": [
      "alphabate c\n"
     ]
    }
   ],
   "source": [
    "ch = 'c'\n",
    "if 'a'<=ch<='z' or 'A'<=ch<='Z':\n",
    "    print('alphabate', ch)\n",
    "else:\n",
    "    print('not alphabate', ch)"
   ]
  },
  {
   "cell_type": "markdown",
   "metadata": {},
   "source": [
    "18. WAP to check whether a given character is uppercase or other character. if uppercase, display 'uppercase' with character or else display 'other character' with character."
   ]
  },
  {
   "cell_type": "code",
   "execution_count": 22,
   "metadata": {},
   "outputs": [
    {
     "name": "stdout",
     "output_type": "stream",
     "text": [
      "Uppercase V\n"
     ]
    }
   ],
   "source": [
    "ch = 'V'\n",
    "if 'A'<=ch<='Z':\n",
    "    print('Uppercase', ch)\n",
    "else:\n",
    "    print('Other character', ch)"
   ]
  },
  {
   "cell_type": "markdown",
   "metadata": {},
   "source": [
    "19. WAP to check whether a given character is lowercase or other character. if lowercase, display the lowercase with character or else display the other character with character."
   ]
  },
  {
   "cell_type": "code",
   "execution_count": 23,
   "metadata": {},
   "outputs": [
    {
     "name": "stdout",
     "output_type": "stream",
     "text": [
      "Other character V\n"
     ]
    }
   ],
   "source": [
    "ch = 'V'\n",
    "if 'a'<=ch<='z':\n",
    "    print('Lowercase', ch)\n",
    "else:\n",
    "    print('Other character', ch)"
   ]
  },
  {
   "cell_type": "markdown",
   "metadata": {},
   "source": [
    "20. WAP to check whether a given character is uppercase or other character. if uppercase, convert to lowercase .or else display the ascii number."
   ]
  },
  {
   "cell_type": "code",
   "execution_count": 24,
   "metadata": {},
   "outputs": [
    {
     "name": "stdout",
     "output_type": "stream",
     "text": [
      "v\n"
     ]
    }
   ],
   "source": [
    "ch = 'V'\n",
    "if 'A'<=ch<='Z':\n",
    "    ch = chr(ord(ch)+32)\n",
    "    print(ch)\n",
    "else:\n",
    "    print(ord(ch))"
   ]
  },
  {
   "cell_type": "markdown",
   "metadata": {},
   "source": [
    "21. WAP to check whether the given character is in lowercase or uppercase. If it is in lowercase, convert it into uppercase, or else it is in uppercase and convert it into lowercase. Display the value."
   ]
  },
  {
   "cell_type": "code",
   "execution_count": null,
   "metadata": {},
   "outputs": [],
   "source": []
  },
  {
   "cell_type": "markdown",
   "metadata": {},
   "source": [
    "22. WAP to check whether the first character of the given string is a special symbol or not. If a special symbol, then extract and display the middle character or else reverse the string and display the half of the string."
   ]
  },
  {
   "cell_type": "code",
   "execution_count": 25,
   "metadata": {},
   "outputs": [
    {
     "name": "stdout",
     "output_type": "stream",
     "text": [
      "sred\n"
     ]
    }
   ],
   "source": [
    "s = 'pyspiders'\n",
    "if 0<=ord(s[0])<48 or 58<ord(s[0])<65 or 90<ord(s[0])<97 or 122<ord(s[0])<=127:\n",
    "    print(s[len(s)//2])\n",
    "else:\n",
    "    st = s[::-1]\n",
    "    print(st[:len(st)//2])"
   ]
  },
  {
   "cell_type": "markdown",
   "metadata": {},
   "source": [
    "23. WAP to check whether the input character is a vowel or not. If it is vowel print ‘VOWEL’ along with that character, if it is not just print ‘CONSONANT’."
   ]
  },
  {
   "cell_type": "code",
   "execution_count": 26,
   "metadata": {},
   "outputs": [
    {
     "name": "stdout",
     "output_type": "stream",
     "text": [
      "consonant\n"
     ]
    }
   ],
   "source": [
    "ch = 'c'\n",
    "if ch in 'aeiouAEIOU':\n",
    "    print('vowel', ch)\n",
    "else:\n",
    "    print('consonant')"
   ]
  },
  {
   "cell_type": "markdown",
   "metadata": {},
   "source": [
    "24. WAP to check whether a given character is a vowel or consonant. if vowel, to print the next character of a given character or else print previous characters."
   ]
  },
  {
   "cell_type": "code",
   "execution_count": 27,
   "metadata": {},
   "outputs": [
    {
     "name": "stdout",
     "output_type": "stream",
     "text": [
      "b\n"
     ]
    }
   ],
   "source": [
    "ch = 'c'\n",
    "if ch in 'aeiouAEIOU':\n",
    "    res = chr(ord(ch)+1)\n",
    "else:\n",
    "    res = chr(ord(ch)-1)\n",
    "print(res)"
   ]
  },
  {
   "cell_type": "markdown",
   "metadata": {},
   "source": [
    "25. WAP to check whether first character of a given string is alphabet or not if the alphabet print reverse the string or else print the middle character."
   ]
  },
  {
   "cell_type": "code",
   "execution_count": 30,
   "metadata": {},
   "outputs": [
    {
     "name": "stdout",
     "output_type": "stream",
     "text": [
      "sredipsyp\n"
     ]
    }
   ],
   "source": [
    "s = 'pyspiders'\n",
    "if 'a'<=s[0]<='z' or 'A'<=s[0]<='Z':\n",
    "    print(s[::-1])\n",
    "else:\n",
    "    print(s[len(s)//2])"
   ]
  },
  {
   "cell_type": "markdown",
   "metadata": {},
   "source": [
    "26. WAP to check whether the given input character is uppercase or lowercase. If the input character is upper case convert into lower case and vice versa."
   ]
  },
  {
   "cell_type": "code",
   "execution_count": null,
   "metadata": {},
   "outputs": [],
   "source": []
  },
  {
   "cell_type": "markdown",
   "metadata": {},
   "source": [
    "27. WAP to check whether a given string has less than 3 characters, than print the entire string otherwise print after third positions to the remaining string."
   ]
  },
  {
   "cell_type": "code",
   "execution_count": 32,
   "metadata": {},
   "outputs": [
    {
     "name": "stdout",
     "output_type": "stream",
     "text": [
      "de\n"
     ]
    }
   ],
   "source": [
    "s = 'abcde'\n",
    "if len(s)<3:\n",
    "    print(s)\n",
    "else:\n",
    "    print(s[3:])"
   ]
  },
  {
   "cell_type": "markdown",
   "metadata": {},
   "source": [
    "28. WAP to check whether length of the given string is even or not. if even, to append the new string called \"bye\" or else print the first and last characters."
   ]
  },
  {
   "cell_type": "code",
   "execution_count": 33,
   "metadata": {},
   "outputs": [
    {
     "name": "stdout",
     "output_type": "stream",
     "text": [
      "abcdbye\n"
     ]
    }
   ],
   "source": [
    "s = 'abcd'\n",
    "if len(s)%2==0:\n",
    "    print(s+'bye')\n",
    "else:\n",
    "    print(s[0], s[-1])"
   ]
  },
  {
   "cell_type": "markdown",
   "metadata": {},
   "source": [
    "29. WAP to check whether length of the given string is odd or not. if odd, to append the new string(\"Haii\") from the starting of the given string, or else to avoid the starting character and ending character of the given string and to display the remaining characters."
   ]
  },
  {
   "cell_type": "code",
   "execution_count": 34,
   "metadata": {},
   "outputs": [
    {
     "name": "stdout",
     "output_type": "stream",
     "text": [
      "bc\n"
     ]
    }
   ],
   "source": [
    "s = 'abcd'\n",
    "if len(s)%2!=0:\n",
    "    print(s+'Haii')\n",
    "else:\n",
    "    print(s[1:-1])"
   ]
  },
  {
   "cell_type": "markdown",
   "metadata": {},
   "source": [
    "30. WAP to check whether the last character of the given string is a special character or not, if special character print reverse of the string except the last character or else check if the length of the string is odd or not, if odd then extract from the middle character to the end of the string."
   ]
  },
  {
   "cell_type": "code",
   "execution_count": null,
   "metadata": {},
   "outputs": [],
   "source": []
  },
  {
   "cell_type": "markdown",
   "metadata": {},
   "source": [
    "31. WAP to check whether the given year is a leap year or not. if leap year, print leap year or else not a leap year."
   ]
  },
  {
   "cell_type": "code",
   "execution_count": 37,
   "metadata": {},
   "outputs": [
    {
     "name": "stdout",
     "output_type": "stream",
     "text": [
      "leap year\n"
     ]
    }
   ],
   "source": [
    "y = 1600\n",
    "if y%400==0 or (y%100!=0 and y%4==0):\n",
    "    print('leap year')\n",
    "else:\n",
    "    print('not a leap year')"
   ]
  },
  {
   "cell_type": "markdown",
   "metadata": {},
   "source": [
    "32. WAP to find out the greatest of two numbers and display the greatest number. if the greatest number, display the greatest message with value."
   ]
  },
  {
   "cell_type": "code",
   "execution_count": null,
   "metadata": {},
   "outputs": [],
   "source": []
  },
  {
   "cell_type": "markdown",
   "metadata": {},
   "source": [
    "33. WAP to check whether the given value is present inside the given collection or not.if value is present, display the value is available or else the value is not present."
   ]
  },
  {
   "cell_type": "code",
   "execution_count": 38,
   "metadata": {},
   "outputs": [
    {
     "name": "stdout",
     "output_type": "stream",
     "text": [
      "The value is available\n"
     ]
    }
   ],
   "source": [
    "a = 50\n",
    "l = [10, 20, 30, 40, 50]\n",
    "if a in l:\n",
    "    print('The value is available')\n",
    "else:\n",
    "    print('The value is not present')"
   ]
  },
  {
   "cell_type": "markdown",
   "metadata": {},
   "source": [
    "34. WAP whether a given string, if string length is more than 2, then it displays a new string with the first and last characters switched, otherwise the display the 3 copies of given string."
   ]
  },
  {
   "cell_type": "code",
   "execution_count": 40,
   "metadata": {},
   "outputs": [
    {
     "name": "stdout",
     "output_type": "stream",
     "text": [
      "pypypy\n"
     ]
    }
   ],
   "source": [
    "s = 'py'\n",
    "if len(s)>2:\n",
    "    res = s[-1] + s[1:-1] + s[0]\n",
    "else:\n",
    "    res = s*3\n",
    "print(res)"
   ]
  },
  {
   "cell_type": "markdown",
   "metadata": {},
   "source": [
    "35. WAP to check whether a given value is a list and first and last values should be integer if condition is satisfied first value is True division by 3 and perform the bitwise not for last value and those result values are stored in same positions in given list or else perform length of the collection power by 2 and display value."
   ]
  },
  {
   "cell_type": "code",
   "execution_count": 42,
   "metadata": {},
   "outputs": [
    {
     "name": "stdout",
     "output_type": "stream",
     "text": [
      "[0.3333333333333333, 2, 3, 4, -6]\n"
     ]
    }
   ],
   "source": [
    "l = [1, 2, 3, 4, 5]\n",
    "if type(l)==list and type(l[0])==int and type(l[-1])==int:\n",
    "    l[0] = l[0]/3\n",
    "    l[-1] = ~l[-1]\n",
    "    print(l)\n",
    "else:\n",
    "    print(len(l)**2)"
   ]
  },
  {
   "cell_type": "markdown",
   "metadata": {},
   "source": [
    "36. WAP to check whether a given value is a string or not and length of the value should be more than 7, if condition is satisfied to append the new string in the middle of the given string or else perform the replications with 3 and display the result."
   ]
  },
  {
   "cell_type": "code",
   "execution_count": 45,
   "metadata": {},
   "outputs": [
    {
     "name": "stdout",
     "output_type": "stream",
     "text": [
      "pyspPythoniders\n"
     ]
    }
   ],
   "source": [
    "s = 'pyspiders'\n",
    "if type(s)==str and len(s)>7:\n",
    "    s = s[:len(s)//2] + 'Python' + s[len(s)//2:]\n",
    "    print(s)\n",
    "else:\n",
    "    print(s*3)"
   ]
  },
  {
   "cell_type": "markdown",
   "metadata": {},
   "source": [
    "37. WAP to check if the first and second character of the given string should be sequence or not. if the sequence occurs print the first, second and last two characters or else the first half string is reversed and the remaining half string should be normal and display it. "
   ]
  },
  {
   "cell_type": "code",
   "execution_count": null,
   "metadata": {},
   "outputs": [],
   "source": []
  },
  {
   "cell_type": "markdown",
   "metadata": {},
   "source": [
    "38. WAP to check whether a given value is present inside the collection or not. If present, print the value or else print value is not found."
   ]
  },
  {
   "cell_type": "markdown",
   "metadata": {},
   "source": [
    "39. WAP to check whether a given key is present in the dict or not. if key is present: display the value or else add key and new value inside the dict."
   ]
  },
  {
   "cell_type": "markdown",
   "metadata": {},
   "source": [
    "40. WAP to check whether a given collection is set or not. if set, append the new value, or else eliminate the duplicate values in collection. final results should be set type."
   ]
  },
  {
   "cell_type": "markdown",
   "metadata": {},
   "source": [
    "41. WAP to read the age of a candidate and determine whether it is eligible for his/her own vote or not.it eligible print age and eligible messages or else print not eligible."
   ]
  },
  {
   "cell_type": "markdown",
   "metadata": {},
   "source": [
    "42. WAP to check whether a given value is even and in between 47 to 58 and not in 0 or odd. if condition is True, to perform display the ascii character or else to perform floor division with 5 and display it."
   ]
  },
  {
   "cell_type": "markdown",
   "metadata": {},
   "source": [
    "43. WAP to check whether the given string is palindrome or not if it is a palindrome string palindrome along with the string if it is not a palindrome print not palindrome."
   ]
  },
  {
   "cell_type": "markdown",
   "metadata": {},
   "source": []
  },
  {
   "cell_type": "markdown",
   "metadata": {},
   "source": []
  },
  {
   "cell_type": "markdown",
   "metadata": {},
   "source": []
  },
  {
   "cell_type": "markdown",
   "metadata": {},
   "source": []
  },
  {
   "cell_type": "markdown",
   "metadata": {},
   "source": []
  },
  {
   "cell_type": "markdown",
   "metadata": {},
   "source": []
  },
  {
   "cell_type": "markdown",
   "metadata": {},
   "source": []
  }
 ],
 "metadata": {
  "kernelspec": {
   "display_name": "Python 3",
   "language": "python",
   "name": "python3"
  },
  "language_info": {
   "codemirror_mode": {
    "name": "ipython",
    "version": 3
   },
   "file_extension": ".py",
   "mimetype": "text/x-python",
   "name": "python",
   "nbconvert_exporter": "python",
   "pygments_lexer": "ipython3",
   "version": "3.10.7"
  },
  "orig_nbformat": 4
 },
 "nbformat": 4,
 "nbformat_minor": 2
}
