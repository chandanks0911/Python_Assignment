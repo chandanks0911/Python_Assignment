{
 "cells": [
  {
   "cell_type": "markdown",
   "metadata": {},
   "source": [
    "1. WAP to check whether a number is positive or negative. If Positive print positive message or else print Negative Number."
   ]
  },
  {
   "cell_type": "code",
   "execution_count": 1,
   "metadata": {},
   "outputs": [
    {
     "name": "stdout",
     "output_type": "stream",
     "text": [
      "positive\n"
     ]
    }
   ],
   "source": [
    "a = 20\n",
    "if a>=0:\n",
    "    print('positive')\n",
    "else:\n",
    "    print('negative')"
   ]
  },
  {
   "cell_type": "markdown",
   "metadata": {},
   "source": [
    "2. WAP to check whether a number is even or odd. If even, print message an even or else print message as odd."
   ]
  },
  {
   "cell_type": "code",
   "execution_count": null,
   "metadata": {},
   "outputs": [],
   "source": [
    "a = 90\n",
    "if a%2==0:\n",
    "    print('even')\n",
    "else:\n",
    "    print('odd')"
   ]
  },
  {
   "cell_type": "markdown",
   "metadata": {},
   "source": [
    "3. Write a program to check whether a given number is greater than 10 or not. if it is greater than 10 print message as greater or else print that number with not a greater than."
   ]
  },
  {
   "cell_type": "code",
   "execution_count": 2,
   "metadata": {},
   "outputs": [
    {
     "name": "stdout",
     "output_type": "stream",
     "text": [
      "greater than 10\n"
     ]
    }
   ],
   "source": [
    "a = 30\n",
    "if a>10:\n",
    "    print('greater than 10')\n",
    "else:\n",
    "    print('not greater than 10')"
   ]
  },
  {
   "cell_type": "markdown",
   "metadata": {},
   "source": [
    "4. WAP to check whether the given two input numbers are divisible by 3 and 5. If it is divisible, print “Good Morning”, if it is not divisible print “Good Evening”."
   ]
  },
  {
   "cell_type": "code",
   "execution_count": 3,
   "metadata": {},
   "outputs": [
    {
     "name": "stdout",
     "output_type": "stream",
     "text": [
      "Good Morning\n"
     ]
    }
   ],
   "source": [
    "a = 15\n",
    "if a%3==0 and a%5==0:\n",
    "    print('Good Morning')\n",
    "else:\n",
    "    print('Good Evening')"
   ]
  },
  {
   "cell_type": "markdown",
   "metadata": {},
   "source": [
    "5. WAP to accept two integers and check whether those two values are equal or not. If equal, multiply to value or else to display the quotation value."
   ]
  },
  {
   "cell_type": "code",
   "execution_count": 4,
   "metadata": {},
   "outputs": [
    {
     "name": "stdout",
     "output_type": "stream",
     "text": [
      "0.9230769230769231\n"
     ]
    }
   ],
   "source": [
    "a = 12\n",
    "b = 13\n",
    "if a==b:\n",
    "    res = a*b\n",
    "else:\n",
    "    res = a/b\n",
    "print(res)"
   ]
  },
  {
   "cell_type": "markdown",
   "metadata": {},
   "source": [
    "6. WAP to find the largest of two numbers."
   ]
  },
  {
   "cell_type": "code",
   "execution_count": 5,
   "metadata": {},
   "outputs": [
    {
     "name": "stdout",
     "output_type": "stream",
     "text": [
      "50 is largest number\n"
     ]
    }
   ],
   "source": [
    "a = 50\n",
    "b = 40\n",
    "if a>b:\n",
    "    print(f'{a} is largest number')\n",
    "else:\n",
    "    print(f'{b} is largest number')"
   ]
  },
  {
   "cell_type": "markdown",
   "metadata": {},
   "source": [
    "7. WAP to check whether the input number is greater than 10 or not if it is greater than 10 print messages as greater with number. if it is not a greater than 10 print that number."
   ]
  },
  {
   "cell_type": "code",
   "execution_count": 7,
   "metadata": {},
   "outputs": [
    {
     "name": "stdout",
     "output_type": "stream",
     "text": [
      "5\n"
     ]
    }
   ],
   "source": [
    "a = 5\n",
    "if a>10:\n",
    "    print('greater', a)\n",
    "else:\n",
    "    print(a)"
   ]
  },
  {
   "cell_type": "markdown",
   "metadata": {},
   "source": [
    "8. WAP to the given number integer, if n is greater than 21,print the absolute difference between n and 21 otherwise print twice the absolute difference."
   ]
  },
  {
   "cell_type": "code",
   "execution_count": 8,
   "metadata": {},
   "outputs": [
    {
     "name": "stdout",
     "output_type": "stream",
     "text": [
      "22\n"
     ]
    }
   ],
   "source": [
    "n = 10\n",
    "if n>21:\n",
    "    res = abs(n-21)\n",
    "else:\n",
    "    res = abs(n-21)*2\n",
    "print(res)"
   ]
  },
  {
   "cell_type": "markdown",
   "metadata": {},
   "source": [
    "9. WAP to find the smallest of two numbers."
   ]
  },
  {
   "cell_type": "code",
   "execution_count": 9,
   "metadata": {},
   "outputs": [
    {
     "name": "stdout",
     "output_type": "stream",
     "text": [
      "4 is smallest\n"
     ]
    }
   ],
   "source": [
    "a = 4\n",
    "b = 6\n",
    "if a<b:\n",
    "    print(f'{a} is smallest')\n",
    "else:\n",
    "    print(f'{b} is smallest')"
   ]
  },
  {
   "cell_type": "markdown",
   "metadata": {},
   "source": [
    "10. WAP to check whether the given number is even or odd. If it is even then make it as an add number, if it is an odd number then make it as even number."
   ]
  },
  {
   "cell_type": "code",
   "execution_count": 11,
   "metadata": {},
   "outputs": [
    {
     "name": "stdout",
     "output_type": "stream",
     "text": [
      "91 is converted into 92\n"
     ]
    }
   ],
   "source": [
    "a = 91\n",
    "if a%2==0:\n",
    "    res = a+1\n",
    "else:\n",
    "    res = a+1\n",
    "print(f'{a} is converted into {a+1}')"
   ]
  },
  {
   "cell_type": "markdown",
   "metadata": {},
   "source": [
    "11. WAP to check whether the given number is divisible by 3 or not if yes, print the\n",
    "number or else print the cube of the numbers."
   ]
  },
  {
   "cell_type": "code",
   "execution_count": 12,
   "metadata": {},
   "outputs": [
    {
     "name": "stdout",
     "output_type": "stream",
     "text": [
      "9\n"
     ]
    }
   ],
   "source": [
    "a = 9\n",
    "if a%3==0:\n",
    "    print(a)\n",
    "else:\n",
    "    print(a**3)"
   ]
  },
  {
   "cell_type": "markdown",
   "metadata": {},
   "source": [
    "12. WAP to check whether the given input is divisible by 3 and 5. If yes print the actual number or else print string of that number."
   ]
  },
  {
   "cell_type": "code",
   "execution_count": 15,
   "metadata": {},
   "outputs": [
    {
     "name": "stdout",
     "output_type": "stream",
     "text": [
      "16 <class 'str'>\n"
     ]
    }
   ],
   "source": [
    "a = 16\n",
    "if a%3==0 and a%5==0:\n",
    "    print(a)\n",
    "else:\n",
    "    print(str(a), type(str(a)))"
   ]
  },
  {
   "cell_type": "markdown",
   "metadata": {},
   "source": [
    "13. WAP to check whether the given number lies between 1 to 19, if it is true square that number or else false cube that number and display the number."
   ]
  },
  {
   "cell_type": "code",
   "execution_count": 16,
   "metadata": {},
   "outputs": [
    {
     "name": "stdout",
     "output_type": "stream",
     "text": [
      "64\n"
     ]
    }
   ],
   "source": [
    "a = 8\n",
    "if 1<a<19:\n",
    "    print(a**2)\n",
    "else:\n",
    "    print(a**3)"
   ]
  },
  {
   "cell_type": "markdown",
   "metadata": {},
   "source": [
    "14. WAP to check whether the student has passed or failed. If the student got more than 40 marks, print ‘PASS’ along with those marks, if it is not printed ‘FAIL’ along with those marks."
   ]
  },
  {
   "cell_type": "code",
   "execution_count": 17,
   "metadata": {},
   "outputs": [
    {
     "name": "stdout",
     "output_type": "stream",
     "text": [
      "PASS\n"
     ]
    }
   ],
   "source": [
    "mark = 50\n",
    "if mark>40:\n",
    "    print('PASS')\n",
    "else:\n",
    "    print('FAIL')"
   ]
  },
  {
   "cell_type": "markdown",
   "metadata": {},
   "source": [
    "15. WAP to check whether a given value is even and in range of 47 to 58 and not in 0 or odd. if condition is True, to perform display the ascii character. or else to perform floor division with 5 and display it."
   ]
  },
  {
   "cell_type": "code",
   "execution_count": 18,
   "metadata": {},
   "outputs": [
    {
     "name": "stdout",
     "output_type": "stream",
     "text": [
      "2\n"
     ]
    }
   ],
   "source": [
    "a = 50\n",
    "if a%2==0 and 47<=a<=58:\n",
    "    print(chr(a))\n",
    "else:\n",
    "    print(a//5)"
   ]
  },
  {
   "cell_type": "markdown",
   "metadata": {},
   "source": [
    "16. WAP to check whether a given value is less than 125 and in between 47 to 125 or not. if condition is True, to perform store the given value as key and value as a character into the dict or else to append the value in list and display it."
   ]
  },
  {
   "cell_type": "code",
   "execution_count": 20,
   "metadata": {},
   "outputs": [
    {
     "name": "stdout",
     "output_type": "stream",
     "text": [
      "[500]\n"
     ]
    }
   ],
   "source": [
    "a = 500\n",
    "d = {}\n",
    "l = []\n",
    "if 47<a<125:\n",
    "    d[a] = chr(a)\n",
    "    print(d)\n",
    "else:\n",
    "    l.append(a)\n",
    "    print(l)"
   ]
  },
  {
   "cell_type": "markdown",
   "metadata": {},
   "source": [
    "17. WAP to check whether a given character is in the alphabet or not. if alphabet, display 'alphabet' with character or else display 'not alphabet' with character."
   ]
  },
  {
   "cell_type": "code",
   "execution_count": 21,
   "metadata": {},
   "outputs": [
    {
     "name": "stdout",
     "output_type": "stream",
     "text": [
      "alphabate c\n"
     ]
    }
   ],
   "source": [
    "ch = 'c'\n",
    "if 'a'<=ch<='z' or 'A'<=ch<='Z':\n",
    "    print('alphabate', ch)\n",
    "else:\n",
    "    print('not alphabate', ch)"
   ]
  },
  {
   "cell_type": "markdown",
   "metadata": {},
   "source": [
    "18. WAP to check whether a given character is uppercase or other character. if uppercase, display 'uppercase' with character or else display 'other character' with character."
   ]
  },
  {
   "cell_type": "code",
   "execution_count": 22,
   "metadata": {},
   "outputs": [
    {
     "name": "stdout",
     "output_type": "stream",
     "text": [
      "Uppercase V\n"
     ]
    }
   ],
   "source": [
    "ch = 'V'\n",
    "if 'A'<=ch<='Z':\n",
    "    print('Uppercase', ch)\n",
    "else:\n",
    "    print('Other character', ch)"
   ]
  },
  {
   "cell_type": "markdown",
   "metadata": {},
   "source": [
    "19. WAP to check whether a given character is lowercase or other character. if lowercase, display the lowercase with character or else display the other character with character."
   ]
  },
  {
   "cell_type": "code",
   "execution_count": 23,
   "metadata": {},
   "outputs": [
    {
     "name": "stdout",
     "output_type": "stream",
     "text": [
      "Other character V\n"
     ]
    }
   ],
   "source": [
    "ch = 'V'\n",
    "if 'a'<=ch<='z':\n",
    "    print('Lowercase', ch)\n",
    "else:\n",
    "    print('Other character', ch)"
   ]
  },
  {
   "cell_type": "markdown",
   "metadata": {},
   "source": [
    "20. WAP to check whether a given character is uppercase or other character. if uppercase, convert to lowercase .or else display the ascii number."
   ]
  },
  {
   "cell_type": "code",
   "execution_count": 24,
   "metadata": {},
   "outputs": [
    {
     "name": "stdout",
     "output_type": "stream",
     "text": [
      "v\n"
     ]
    }
   ],
   "source": [
    "ch = 'V'\n",
    "if 'A'<=ch<='Z':\n",
    "    ch = chr(ord(ch)+32)\n",
    "    print(ch)\n",
    "else:\n",
    "    print(ord(ch))"
   ]
  },
  {
   "cell_type": "markdown",
   "metadata": {},
   "source": [
    "21. WAP to check whether the given alphabate is in lowercase or uppercase. If it is in lowercase, convert it into uppercase, or else it is in uppercase and convert it into lowercase. Display the value."
   ]
  },
  {
   "cell_type": "code",
   "execution_count": 49,
   "metadata": {},
   "outputs": [
    {
     "name": "stdout",
     "output_type": "stream",
     "text": [
      "A\n"
     ]
    }
   ],
   "source": [
    "alp = 'a'\n",
    "if 'a'<=alp<='z':\n",
    "    res = chr(ord(alp)-32)\n",
    "else:\n",
    "    res = chr(ord(alp)+32)\n",
    "print(res)"
   ]
  },
  {
   "cell_type": "markdown",
   "metadata": {},
   "source": [
    "22. WAP to check whether the first character of the given string is a special symbol or not. If a special symbol, then extract and display the middle character or else reverse the string and display the half of the string."
   ]
  },
  {
   "cell_type": "code",
   "execution_count": 25,
   "metadata": {},
   "outputs": [
    {
     "name": "stdout",
     "output_type": "stream",
     "text": [
      "sred\n"
     ]
    }
   ],
   "source": [
    "s = 'pyspiders'\n",
    "if 0<=ord(s[0])<48 or 58<ord(s[0])<65 or 90<ord(s[0])<97 or 122<ord(s[0])<=127:\n",
    "    print(s[len(s)//2])\n",
    "else:\n",
    "    st = s[::-1]\n",
    "    print(st[:len(st)//2])"
   ]
  },
  {
   "cell_type": "markdown",
   "metadata": {},
   "source": [
    "23. WAP to check whether the input character is a vowel or not. If it is vowel print ‘VOWEL’ along with that character, if it is not just print ‘CONSONANT’."
   ]
  },
  {
   "cell_type": "code",
   "execution_count": 26,
   "metadata": {},
   "outputs": [
    {
     "name": "stdout",
     "output_type": "stream",
     "text": [
      "consonant\n"
     ]
    }
   ],
   "source": [
    "ch = 'c'\n",
    "if ch in 'aeiouAEIOU':\n",
    "    print('vowel', ch)\n",
    "else:\n",
    "    print('consonant')"
   ]
  },
  {
   "cell_type": "markdown",
   "metadata": {},
   "source": [
    "24. WAP to check whether a given character is a vowel or consonant. if vowel, to print the next character of a given character or else print previous characters."
   ]
  },
  {
   "cell_type": "code",
   "execution_count": 27,
   "metadata": {},
   "outputs": [
    {
     "name": "stdout",
     "output_type": "stream",
     "text": [
      "b\n"
     ]
    }
   ],
   "source": [
    "ch = 'c'\n",
    "if ch in 'aeiouAEIOU':\n",
    "    res = chr(ord(ch)+1)\n",
    "else:\n",
    "    res = chr(ord(ch)-1)\n",
    "print(res)"
   ]
  },
  {
   "cell_type": "markdown",
   "metadata": {},
   "source": [
    "25. WAP to check whether first character of a given string is alphabet or not if the alphabet print reverse the string or else print the middle character."
   ]
  },
  {
   "cell_type": "code",
   "execution_count": 30,
   "metadata": {},
   "outputs": [
    {
     "name": "stdout",
     "output_type": "stream",
     "text": [
      "sredipsyp\n"
     ]
    }
   ],
   "source": [
    "s = 'pyspiders'\n",
    "if 'a'<=s[0]<='z' or 'A'<=s[0]<='Z':\n",
    "    print(s[::-1])\n",
    "else:\n",
    "    print(s[len(s)//2])"
   ]
  },
  {
   "cell_type": "markdown",
   "metadata": {},
   "source": [
    "26. WAP to check whether the given alphabate is uppercase or lowercase. If the input character is upper case convert into lower case and vice versa."
   ]
  },
  {
   "cell_type": "code",
   "execution_count": 50,
   "metadata": {},
   "outputs": [
    {
     "name": "stdout",
     "output_type": "stream",
     "text": [
      "A\n"
     ]
    }
   ],
   "source": [
    "alp = 'a'\n",
    "if 'a'<=alp<='z':\n",
    "    res = chr(ord(alp)-32)\n",
    "else:\n",
    "    res = chr(ord(alp)+32)\n",
    "print(res)"
   ]
  },
  {
   "cell_type": "markdown",
   "metadata": {},
   "source": [
    "27. WAP to check whether a given string has less than 3 characters, than print the entire string otherwise print after third positions to the remaining string."
   ]
  },
  {
   "cell_type": "code",
   "execution_count": 32,
   "metadata": {},
   "outputs": [
    {
     "name": "stdout",
     "output_type": "stream",
     "text": [
      "de\n"
     ]
    }
   ],
   "source": [
    "s = 'abcde'\n",
    "if len(s)<3:\n",
    "    print(s)\n",
    "else:\n",
    "    print(s[3:])"
   ]
  },
  {
   "cell_type": "markdown",
   "metadata": {},
   "source": [
    "28. WAP to check whether length of the given string is even or not. if even, to append the new string called \"bye\" or else print the first and last characters."
   ]
  },
  {
   "cell_type": "code",
   "execution_count": 33,
   "metadata": {},
   "outputs": [
    {
     "name": "stdout",
     "output_type": "stream",
     "text": [
      "abcdbye\n"
     ]
    }
   ],
   "source": [
    "s = 'abcd'\n",
    "if len(s)%2==0:\n",
    "    print(s+'bye')\n",
    "else:\n",
    "    print(s[0], s[-1])"
   ]
  },
  {
   "cell_type": "markdown",
   "metadata": {},
   "source": [
    "29. WAP to check whether length of the given string is odd or not. if odd, to append the new string(\"Haii\") from the starting of the given string, or else to avoid the starting character and ending character of the given string and to display the remaining characters."
   ]
  },
  {
   "cell_type": "code",
   "execution_count": 55,
   "metadata": {},
   "outputs": [
    {
     "name": "stdout",
     "output_type": "stream",
     "text": [
      "Haiiabcd1\n"
     ]
    }
   ],
   "source": [
    "s = 'abcd1'\n",
    "if len(s)%2!=0:\n",
    "    print('Haii'+s)\n",
    "else:\n",
    "    print(s[1:-1])"
   ]
  },
  {
   "cell_type": "markdown",
   "metadata": {},
   "source": [
    "30. WAP to check whether the last character of the given string is a special character or not, if special character print reverse of the string except the last character or else check if the length of the string is odd or not, if odd then extract from the middle character to the end of the string."
   ]
  },
  {
   "cell_type": "code",
   "execution_count": 63,
   "metadata": {},
   "outputs": [
    {
     "name": "stdout",
     "output_type": "stream",
     "text": [
      "fjasn\n"
     ]
    }
   ],
   "source": [
    "s = 'nsajf/'\n",
    "ch = ord(s[-1])\n",
    "if 0<=ch<=47 or 58<=ch<=64 or 91<=ch<=96 or 123<=ch<=127:\n",
    "    print(s[-2::-1])\n",
    "elif len(s)%2!=0:\n",
    "    print(s[len(s)//2:])"
   ]
  },
  {
   "cell_type": "markdown",
   "metadata": {},
   "source": [
    "31. WAP to check whether the given year is a leap year or not. if leap year, print leap year or else not a leap year."
   ]
  },
  {
   "cell_type": "code",
   "execution_count": 64,
   "metadata": {},
   "outputs": [
    {
     "name": "stdout",
     "output_type": "stream",
     "text": [
      "not a leap year\n"
     ]
    }
   ],
   "source": [
    "y = 2023\n",
    "if y%400==0 or (y%100!=0 and y%4==0):\n",
    "    print('leap year')\n",
    "else:\n",
    "    print('not a leap year')"
   ]
  },
  {
   "cell_type": "markdown",
   "metadata": {},
   "source": [
    "32. WAP to find out the greatest of two numbers and display the greatest number. if the greatest number, display the greatest message with value."
   ]
  },
  {
   "cell_type": "code",
   "execution_count": 66,
   "metadata": {},
   "outputs": [
    {
     "name": "stdout",
     "output_type": "stream",
     "text": [
      "5 is greatest\n"
     ]
    }
   ],
   "source": [
    "a = 3\n",
    "b = 5\n",
    "if a>b:\n",
    "    print(f'{a} is greatest')\n",
    "else:\n",
    "    print(f'{b} is greatest')"
   ]
  },
  {
   "cell_type": "markdown",
   "metadata": {},
   "source": [
    "33. WAP to check whether the given value is present inside the given collection or not.if value is present, display the value is available or else the value is not present."
   ]
  },
  {
   "cell_type": "code",
   "execution_count": 38,
   "metadata": {},
   "outputs": [
    {
     "name": "stdout",
     "output_type": "stream",
     "text": [
      "The value is available\n"
     ]
    }
   ],
   "source": [
    "a = 50\n",
    "l = [10, 20, 30, 40, 50]\n",
    "if a in l:\n",
    "    print('The value is available')\n",
    "else:\n",
    "    print('The value is not present')"
   ]
  },
  {
   "cell_type": "markdown",
   "metadata": {},
   "source": [
    "34. WAP whether a given string, if string length is more than 2, then it displays a new string with the first and last characters switched, otherwise the display the 3 copies of given string."
   ]
  },
  {
   "cell_type": "code",
   "execution_count": 40,
   "metadata": {},
   "outputs": [
    {
     "name": "stdout",
     "output_type": "stream",
     "text": [
      "pypypy\n"
     ]
    }
   ],
   "source": [
    "s = 'py'\n",
    "if len(s)>2:\n",
    "    res = s[-1] + s[1:-1] + s[0]\n",
    "else:\n",
    "    res = s*3\n",
    "print(res)"
   ]
  },
  {
   "cell_type": "markdown",
   "metadata": {},
   "source": [
    "35. WAP to check whether a given value is a list and first and last values should be integer if condition is satisfied first value is True division by 3 and perform the bitwise not for last value and those result values are stored in same positions in given list or else perform length of the collection power by 2 and display value."
   ]
  },
  {
   "cell_type": "code",
   "execution_count": 42,
   "metadata": {},
   "outputs": [
    {
     "name": "stdout",
     "output_type": "stream",
     "text": [
      "[0.3333333333333333, 2, 3, 4, -6]\n"
     ]
    }
   ],
   "source": [
    "l = [1, 2, 3, 4, 5]\n",
    "if type(l)==list and type(l[0])==int and type(l[-1])==int:\n",
    "    l[0] = l[0]/3\n",
    "    l[-1] = ~l[-1]\n",
    "    print(l)\n",
    "else:\n",
    "    print(len(l)**2)"
   ]
  },
  {
   "cell_type": "markdown",
   "metadata": {},
   "source": [
    "36. WAP to check whether a given value is a string or not and length of the value should be more than 7, if condition is satisfied to append the new string in the middle of the given string or else perform the replications with 3 and display the result."
   ]
  },
  {
   "cell_type": "code",
   "execution_count": 45,
   "metadata": {},
   "outputs": [
    {
     "name": "stdout",
     "output_type": "stream",
     "text": [
      "pyspPythoniders\n"
     ]
    }
   ],
   "source": [
    "s = 'pyspiders'\n",
    "if type(s)==str and len(s)>7:\n",
    "    s = s[:len(s)//2] + 'Python' + s[len(s)//2:]\n",
    "    print(s)\n",
    "else:\n",
    "    print(s*3)"
   ]
  },
  {
   "cell_type": "markdown",
   "metadata": {},
   "source": [
    "37. WAP to check if the first and second character of the given string should be sequence or not. if the sequence occurs print the first, second and last two characters or else the first half string is reversed and the remaining half string should be normal and display it. "
   ]
  },
  {
   "cell_type": "code",
   "execution_count": 71,
   "metadata": {},
   "outputs": [
    {
     "name": "stdout",
     "output_type": "stream",
     "text": [
      "abdn\n"
     ]
    }
   ],
   "source": [
    "s = 'abfdn'\n",
    "if ord(s[0])+1 == ord(s[1]):\n",
    "    res = s[0:2] + s[-2:]\n",
    "else:\n",
    "    res = s[len(s)//2::-1] + s[len(s)//2+1:]\n",
    "print(res)"
   ]
  },
  {
   "cell_type": "markdown",
   "metadata": {},
   "source": [
    "38. WAP to check whether a given value is present inside the collection or not. If present, print the value or else print value is not found."
   ]
  },
  {
   "cell_type": "code",
   "execution_count": 73,
   "metadata": {},
   "outputs": [
    {
     "name": "stdout",
     "output_type": "stream",
     "text": [
      "80\n"
     ]
    }
   ],
   "source": [
    "a = 80\n",
    "l = [10, 20, 30, 40, 50, 80]\n",
    "if a in l:\n",
    "    print(a)\n",
    "else:\n",
    "    print('value not found')"
   ]
  },
  {
   "cell_type": "markdown",
   "metadata": {},
   "source": [
    "39. WAP to check whether a given key is present in the dict or not. if key is present: display the value or else add key and new value inside the dict."
   ]
  },
  {
   "cell_type": "code",
   "execution_count": 75,
   "metadata": {},
   "outputs": [
    {
     "name": "stdout",
     "output_type": "stream",
     "text": [
      "{1: 'a', 2: 'b', 3: 'c', 4: 'd'}\n"
     ]
    }
   ],
   "source": [
    "a = 4\n",
    "d = {1:'a', 2:'b', 3:'c'}\n",
    "if a in d:\n",
    "    print(d[a])\n",
    "else:\n",
    "    d[a]='d'\n",
    "    print(d)"
   ]
  },
  {
   "cell_type": "markdown",
   "metadata": {},
   "source": [
    "40. WAP to check whether a given collection is set or not. if set, append the new value, or else eliminate the duplicate values in collection. final results should be set type."
   ]
  },
  {
   "cell_type": "code",
   "execution_count": 79,
   "metadata": {},
   "outputs": [
    {
     "name": "stdout",
     "output_type": "stream",
     "text": [
      "{40, 10, 20, 30}\n"
     ]
    }
   ],
   "source": [
    "s = [10, 20, 30, 40, 40]\n",
    "if type(s)==set:\n",
    "    s|={50}\n",
    "    print(s)\n",
    "else:\n",
    "    print(set(s))"
   ]
  },
  {
   "cell_type": "markdown",
   "metadata": {},
   "source": [
    "41. WAP to read the age of a candidate and determine whether it is eligible for his/her own vote or not.if eligible print age and eligible messages or else print not eligible."
   ]
  },
  {
   "cell_type": "code",
   "execution_count": 81,
   "metadata": {},
   "outputs": [
    {
     "name": "stdout",
     "output_type": "stream",
     "text": [
      "not eligible\n"
     ]
    }
   ],
   "source": [
    "a = 16\n",
    "if a>=18:\n",
    "    print(a, 'eligible')\n",
    "else:\n",
    "    print('not eligible')"
   ]
  },
  {
   "cell_type": "markdown",
   "metadata": {},
   "source": [
    "42. WAP to check whether a given value is even and in between 47 to 58 and not in 0 or odd. if condition is True, then perform display the ascii character or else to perform floor division with 5 and display it."
   ]
  },
  {
   "cell_type": "code",
   "execution_count": 82,
   "metadata": {},
   "outputs": [
    {
     "name": "stdout",
     "output_type": "stream",
     "text": [
      "2\n"
     ]
    }
   ],
   "source": [
    "a = 50\n",
    "if 47<=a<=58:\n",
    "    print(chr(a))\n",
    "else:\n",
    "    print(a//5)"
   ]
  },
  {
   "cell_type": "markdown",
   "metadata": {},
   "source": [
    "43. WAP to check whether the given string is palindrome or not if it is a palindrome, print string palindrome along with the string, if it is not a palindrome print not palindrome."
   ]
  },
  {
   "cell_type": "code",
   "execution_count": 83,
   "metadata": {},
   "outputs": [
    {
     "name": "stdout",
     "output_type": "stream",
     "text": [
      "pallindrome string kanak\n"
     ]
    }
   ],
   "source": [
    "s = 'kanak'\n",
    "rev = s[::-1]\n",
    "if rev == s:\n",
    "    print('pallindrome string', s)\n",
    "else:\n",
    "    print('not paliindrome')"
   ]
  },
  {
   "cell_type": "markdown",
   "metadata": {},
   "source": [
    "44. WAP to check whether a given number is palindrome or not. If palindrome, display the given value as a palindrome or else not a palindrome."
   ]
  },
  {
   "cell_type": "code",
   "execution_count": 84,
   "metadata": {},
   "outputs": [
    {
     "name": "stdout",
     "output_type": "stream",
     "text": [
      "pallindrome string kanak\n"
     ]
    }
   ],
   "source": [
    "s = 'kanak'\n",
    "rev = s[::-1]\n",
    "if rev == s:\n",
    "    print('pallindrome string', s)\n",
    "else:\n",
    "    print('not a paliindrome')"
   ]
  },
  {
   "cell_type": "markdown",
   "metadata": {},
   "source": [
    "45. WAP to check length of both string collections are equal or not. if both are equal print the concat the two strings and display, or else if any one of the collection not equal print both the collections with lengths"
   ]
  },
  {
   "cell_type": "code",
   "execution_count": 91,
   "metadata": {},
   "outputs": [
    {
     "name": "stdout",
     "output_type": "stream",
     "text": [
      "qspidersjspiders\n"
     ]
    }
   ],
   "source": [
    "s1 = 'qspiders'\n",
    "s2 = 'jspiders'\n",
    "if len(s1)==len(s2):\n",
    "    print(s1+s2)\n",
    "else:\n",
    "    print(s1, len(s1))\n",
    "    print(s2, len(s2))"
   ]
  },
  {
   "cell_type": "markdown",
   "metadata": {},
   "source": [
    "46. WAP to check whether both given values point to the same memory location or not. if it is true print the middle item of the second collection, or else if it is false print the first item and last item of the first collection along with the memory address"
   ]
  },
  {
   "cell_type": "code",
   "execution_count": 93,
   "metadata": {},
   "outputs": [
    {
     "name": "stdout",
     "output_type": "stream",
     "text": [
      "yes\n"
     ]
    }
   ],
   "source": [
    "a = 'qspiders'\n",
    "b = 'qspiders'\n",
    "if a is b:\n",
    "    print('')"
   ]
  },
  {
   "cell_type": "markdown",
   "metadata": {},
   "source": [
    "47. WAP to check whether a given string collection is more than ten, and the first + last character of the ascii values should be divisible by 5, if condition is satisfied print first, middle, last characters ASCII values or else print the string three times."
   ]
  },
  {
   "cell_type": "code",
   "execution_count": 5,
   "metadata": {},
   "outputs": [
    {
     "name": "stdout",
     "output_type": "stream",
     "text": [
      "99 101 51\n"
     ]
    }
   ],
   "source": [
    "s = 'cyspiders123'\n",
    "if len(s)>10 and (ord(s[0])+ord(s[-1]))%5==0:\n",
    "    print(ord(s[0]), ord(s[len(s)//2]), ord(s[-1]))\n",
    "else:\n",
    "    print(s*3)"
   ]
  },
  {
   "cell_type": "markdown",
   "metadata": {},
   "source": [
    "48. WAP to check whether the middle of the item present in the list is string data type or not if it is string print that list or else if it is not string then print that middle item."
   ]
  },
  {
   "cell_type": "code",
   "execution_count": 6,
   "metadata": {},
   "outputs": [
    {
     "name": "stdout",
     "output_type": "stream",
     "text": [
      "[10, 20, 'a', 30, 40]\n"
     ]
    }
   ],
   "source": [
    "l = [10, 20, 'a', 30, 40]\n",
    "if type(l[len(l)//2])==str:\n",
    "    print(l)\n",
    "else:\n",
    "    print(l[len(l)//2])"
   ]
  },
  {
   "cell_type": "markdown",
   "metadata": {},
   "source": [
    "49. WAP to check wheather given value is a string, return a new string where the first and last characters have been exchanged."
   ]
  },
  {
   "cell_type": "code",
   "execution_count": 7,
   "metadata": {},
   "outputs": [
    {
     "name": "stdout",
     "output_type": "stream",
     "text": [
      "strings\n"
     ]
    }
   ],
   "source": [
    "s = 'strings'\n",
    "if type(s)==str:\n",
    "    print(s[-1]+s[1:-1]+s[0])"
   ]
  },
  {
   "cell_type": "markdown",
   "metadata": {},
   "source": [
    "50. Write a program to find out such numbers which are divisible by 7 but are not a multiple of 5. Both the condition is satisfied then print actual value. if one condition is not satisfied actual number is multiply by 4 and print result."
   ]
  },
  {
   "cell_type": "code",
   "execution_count": 9,
   "metadata": {},
   "outputs": [
    {
     "name": "stdout",
     "output_type": "stream",
     "text": [
      "140\n"
     ]
    }
   ],
   "source": [
    "a = 35\n",
    "if a%7==0 and a%5!=0:\n",
    "    print(a)\n",
    "else:\n",
    "    print(a*4)"
   ]
  },
  {
   "cell_type": "markdown",
   "metadata": {},
   "source": [
    "51. WAP to check whether two values are pointing to the same memory address or not. If the same memory displays the address or else displays the two values addresses."
   ]
  },
  {
   "cell_type": "code",
   "execution_count": 11,
   "metadata": {},
   "outputs": [
    {
     "name": "stdout",
     "output_type": "stream",
     "text": [
      "1859855457200 1859855456080\n"
     ]
    }
   ],
   "source": [
    "a = 1000\n",
    "b = 1000\n",
    "if a is b:\n",
    "    print(id(a))\n",
    "else:\n",
    "    print(id(a), id(b))"
   ]
  },
  {
   "cell_type": "markdown",
   "metadata": {},
   "source": [
    "52. WAP to check whether a given input character is a special symbol or not if it is a special symbol then print that character three times or else print that character 5 times.\n"
   ]
  },
  {
   "cell_type": "code",
   "execution_count": 14,
   "metadata": {},
   "outputs": [
    {
     "name": "stdout",
     "output_type": "stream",
     "text": [
      "55555\n"
     ]
    }
   ],
   "source": [
    "ch = input('Enter a character: ')\n",
    "if 0<=ord(ch)<48 or 57<ord(ch)<65 or 90<ord(ch)<97 or 122<ord(ch)<=127:\n",
    "    print(ch*3)\n",
    "else:\n",
    "    print(ch*5)"
   ]
  },
  {
   "cell_type": "markdown",
   "metadata": {},
   "source": [
    "53. WAP to check length of both string collections equal or not if it is equal print the connection of any one of the collections if it is not equal print both the collection."
   ]
  },
  {
   "cell_type": "code",
   "execution_count": null,
   "metadata": {},
   "outputs": [],
   "source": []
  },
  {
   "cell_type": "markdown",
   "metadata": {},
   "source": [
    "54. WAP To check whether both input variables point to the same memory locatio or not if it is true print the last item of the second collection, if it is false print the first item of the first collection along with the memory address.\n"
   ]
  },
  {
   "cell_type": "code",
   "execution_count": 19,
   "metadata": {},
   "outputs": [
    {
     "name": "stdout",
     "output_type": "stream",
     "text": [
      "7 1859776414128\n"
     ]
    }
   ],
   "source": [
    "l1 = [7, 8, 9]\n",
    "l2 = [7, 8, 9]\n",
    "if l1 is l2:\n",
    "    print(l2[-1], id(l2[-1]))\n",
    "else:\n",
    "    print(l1[0], id(l1[0]))"
   ]
  },
  {
   "cell_type": "markdown",
   "metadata": {},
   "source": [
    "55. WAP to print the string collection five times when the length of the string collection should be more than 3 and the middle character of the string should be vowel and the first character ASCII value should be even, to print the previous character of middle character, or else if ASCII value is odd then print the string three times as print that string."
   ]
  },
  {
   "cell_type": "code",
   "execution_count": null,
   "metadata": {},
   "outputs": [],
   "source": []
  },
  {
   "cell_type": "markdown",
   "metadata": {},
   "source": [
    "56. Ravi would like to buy a new cello or red pen. The cost of the pen should be 10. If the pen is available in the shop, he will buy the pen. If it is not there he will come out of the shop.\n"
   ]
  },
  {
   "cell_type": "code",
   "execution_count": 21,
   "metadata": {},
   "outputs": [
    {
     "name": "stdout",
     "output_type": "stream",
     "text": [
      "He will buy the pen\n"
     ]
    }
   ],
   "source": [
    "pens = {'Cello':10, 'red pen':10, 'blue pen':30, 'green pen':25}\n",
    "if 'Cello' in pens or 'red pen' in pens:\n",
    "    print('He will buy the pen')\n",
    "else:\n",
    "    print('He came out from the shop')"
   ]
  },
  {
   "cell_type": "markdown",
   "metadata": {},
   "source": [
    "57. WAP to perform addition and subtraction operation by using list collection if the first and middle data items number are even performing addition operation, or else performing subtraction.\n"
   ]
  },
  {
   "cell_type": "code",
   "execution_count": null,
   "metadata": {},
   "outputs": [],
   "source": []
  },
  {
   "cell_type": "markdown",
   "metadata": {},
   "source": [
    "WAP to check whether the first item of these two lists is either integer or not. If it is an integer, concatenate these two lists or else print the memory address of these two lists."
   ]
  }
 ],
 "metadata": {
  "kernelspec": {
   "display_name": "Python 3",
   "language": "python",
   "name": "python3"
  },
  "language_info": {
   "codemirror_mode": {
    "name": "ipython",
    "version": 3
   },
   "file_extension": ".py",
   "mimetype": "text/x-python",
   "name": "python",
   "nbconvert_exporter": "python",
   "pygments_lexer": "ipython3",
   "version": "3.10.7"
  },
  "orig_nbformat": 4
 },
 "nbformat": 4,
 "nbformat_minor": 2
}
